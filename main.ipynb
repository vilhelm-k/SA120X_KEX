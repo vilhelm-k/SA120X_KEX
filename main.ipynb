{
 "cells": [
  {
   "cell_type": "code",
   "execution_count": 1,
   "metadata": {},
   "outputs": [],
   "source": [
    "%load_ext autoreload\n",
    "%autoreload 2\n",
    "\n",
    "import pandas as pd\n",
    "import numpy as np\n",
    "import gurobipy as gp\n",
    "from gurobipy import GRB\n",
    "from utils.preprocessing import create_time_matrix, create_caregivers_df, create_tasks_df, create_clients_df\n",
    "\n",
    "caregivers = create_caregivers_df('data/raw/caregivers.csv')\n",
    "\n",
    "tasks = create_tasks_df('data/raw/hemtjanst_tasks.csv', only_client_tasks=True)\n",
    "\n",
    "clients = create_clients_df('data/raw/clients.csv')\n",
    "\n",
    "drive_time_matrix = create_time_matrix('data/raw/matrix_duration_matrix_DRIVE.csv')\n",
    "walk_time_matrix = create_time_matrix('data/raw/matrix_duration_matrix_WALK.csv')\n",
    "bicycle_time_matrix = create_time_matrix('data/raw/matrix_duration_matrix_BICYCLE.csv')"
   ]
  },
  {
   "cell_type": "code",
   "execution_count": 2,
   "metadata": {},
   "outputs": [
    {
     "name": "stdout",
     "output_type": "stream",
     "text": [
      "Number of caregivers in subset: 3\n",
      "Number of tasks assigned to subset caregivers: 27\n",
      "Number of caregivers in subset: 10\n",
      "Number of tasks assigned to subset caregivers: 86\n"
     ]
    }
   ],
   "source": [
    "# Test1: Subset with only caregivers 33, 949, 1108 and their tasks\n",
    "test1_subset = [33, 949, 1108]\n",
    "caregivers_test1 = caregivers.loc[test1_subset]\n",
    "tasks_test1 = tasks[tasks['PlannedCaregiverID'].isin(test1_subset)]\n",
    "\n",
    "print(f\"Number of caregivers in subset: {len(caregivers_test1)}\")\n",
    "print(f\"Number of tasks assigned to subset caregivers: {len(tasks_test1)}\")\n",
    "\n",
    "# Test2: Subset with only first 10 caregivers that use car as mode of transport\n",
    "car_caregivers = caregivers[caregivers['ModeOfTransport'] == 'car']\n",
    "caregivers_test2 = car_caregivers.head(10)\n",
    "tasks_test2 = tasks[tasks['PlannedCaregiverID'].isin(caregivers_test2.index)]\n",
    "\n",
    "print(f\"Number of caregivers in subset: {len(caregivers_test2)}\")\n",
    "print(f\"Number of tasks assigned to subset caregivers: {len(tasks_test2)}\")"
   ]
  },
  {
   "cell_type": "code",
   "execution_count": null,
   "metadata": {},
   "outputs": [
    {
     "name": "stdout",
     "output_type": "stream",
     "text": [
      "Gurobi Optimizer version 12.0.1 build v12.0.1rc0 (mac64[arm] - Darwin 24.3.0 24D70)\n",
      "\n",
      "CPU model: Apple M2 Pro\n",
      "Thread count: 10 physical cores, 10 logical processors, using up to 10 threads\n",
      "\n",
      "Optimize a model with 988 rows, 76540 columns and 266490 nonzeros\n",
      "Model fingerprint: 0xc6863fde\n",
      "Variable types: 1720 continuous, 74820 integer (74820 binary)\n",
      "Coefficient statistics:\n",
      "  Matrix range     [1e+00, 1e+03]\n",
      "  Objective range  [1e+00, 1e+00]\n",
      "  Bounds range     [1e+00, 1e+00]\n",
      "  RHS range        [1e+00, 1e+00]\n",
      "Presolve removed 42 rows and 43421 columns\n",
      "Presolve time: 0.12s\n",
      "Presolved: 946 rows, 33119 columns, 96957 nonzeros\n",
      "Variable types: 0 continuous, 33119 integer (33099 binary)\n",
      "\n",
      "Root relaxation: objective 3.803650e+03, 14859 iterations, 1.20 seconds (2.90 work units)\n",
      "\n",
      "    Nodes    |    Current Node    |     Objective Bounds      |     Work\n",
      " Expl Unexpl |  Obj  Depth IntInf | Incumbent    BestBd   Gap | It/Node Time\n",
      "\n",
      "*    0     0               0    3803.6500000 3803.65000  0.00%     -    1s\n",
      "\n",
      "Explored 1 nodes (14859 simplex iterations) in 1.38 seconds (3.31 work units)\n",
      "Thread count was 10 (of 10 available processors)\n",
      "\n",
      "Solution count 1: 3803.65 \n",
      "\n",
      "Optimal solution found (tolerance 1.00e-04)\n",
      "Best objective 3.803650000000e+03, best bound 3.803650000000e+03, gap 0.0000%\n"
     ]
    },
    {
     "data": {
      "text/plain": [
       "<gurobi.Model MIP instance HomeCare: 988 constrs, 76540 vars, Parameter changes: Username=(user-defined), LicenseID=2635249>"
      ]
     },
     "execution_count": 6,
     "metadata": {},
     "output_type": "execute_result"
    }
   ],
   "source": [
    "from models.flexible_model import FlexibleModel\n",
    "from models.fixed_model import FixedModel\n",
    "model_type = FixedModel\n",
    "model_caregivers = caregivers_test2\n",
    "model_tasks = tasks_test2\n",
    "\n",
    "model = model_type(model_caregivers, model_tasks, clients, drive_time_matrix, walk_time_matrix, bicycle_time_matrix)\n",
    "model.build()\n",
    "model.optimize()"
   ]
  },
  {
   "cell_type": "code",
   "execution_count": null,
   "metadata": {},
   "outputs": [
    {
     "ename": "KeyError",
     "evalue": "979",
     "output_type": "error",
     "traceback": [
      "\u001b[31m---------------------------------------------------------------------------\u001b[39m",
      "\u001b[31mKeyError\u001b[39m                                  Traceback (most recent call last)",
      "\u001b[36mCell\u001b[39m\u001b[36m \u001b[39m\u001b[32mIn[7]\u001b[39m\u001b[32m, line 3\u001b[39m\n\u001b[32m      1\u001b[39m \u001b[38;5;28;01mfrom\u001b[39;00m\u001b[38;5;250m \u001b[39m\u001b[34;01mutils\u001b[39;00m\u001b[34;01m.\u001b[39;00m\u001b[34;01mvisualization\u001b[39;00m\u001b[38;5;250m \u001b[39m\u001b[38;5;28;01mimport\u001b[39;00m visualize_schedule, visualize_metrics, visualize_routes\n\u001b[32m----> \u001b[39m\u001b[32m3\u001b[39m \u001b[43mflexible_model\u001b[49m\u001b[43m.\u001b[49m\u001b[43mget_solution\u001b[49m\u001b[43m(\u001b[49m\u001b[43m)\u001b[49m\n\u001b[32m      5\u001b[39m visualize_metrics(flexible_model, display_mode=\u001b[33m'\u001b[39m\u001b[33mdashboard\u001b[39m\u001b[33m'\u001b[39m);\n\u001b[32m      6\u001b[39m visualize_schedule(flexible_model);\n",
      "\u001b[36mFile \u001b[39m\u001b[32m~/Code/KTH/SA120X_KEX/models/base_model.py:207\u001b[39m, in \u001b[36mBaseModel.get_solution\u001b[39m\u001b[34m(self)\u001b[39m\n\u001b[32m    205\u001b[39m     \u001b[38;5;28mprint\u001b[39m(\u001b[33mf\u001b[39m\u001b[33m\"\u001b[39m\u001b[33mModel not optimally solved. Status: \u001b[39m\u001b[38;5;132;01m{\u001b[39;00m\u001b[38;5;28mself\u001b[39m.model.Status\u001b[38;5;132;01m}\u001b[39;00m\u001b[33m\"\u001b[39m)\n\u001b[32m    206\u001b[39m \u001b[38;5;28mself\u001b[39m.__extract_routes()\n\u001b[32m--> \u001b[39m\u001b[32m207\u001b[39m \u001b[38;5;28;43mself\u001b[39;49m\u001b[43m.\u001b[49m\u001b[43m_extract_arrival_times\u001b[49m\u001b[43m(\u001b[49m\u001b[43m)\u001b[49m\n\u001b[32m    208\u001b[39m \u001b[38;5;28;01mreturn\u001b[39;00m \u001b[38;5;28mself\u001b[39m.routes, \u001b[38;5;28mself\u001b[39m.arrivals\n",
      "\u001b[36mFile \u001b[39m\u001b[32m~/Code/KTH/SA120X_KEX/models/fixed_model.py:104\u001b[39m, in \u001b[36m_extract_arrival_times\u001b[39m\u001b[34m(self)\u001b[39m\n\u001b[32m    102\u001b[39m \u001b[38;5;28;01mfor\u001b[39;00m k \u001b[38;5;129;01min\u001b[39;00m \u001b[38;5;28mself\u001b[39m.K:\n\u001b[32m    103\u001b[39m     arrivals[k][\u001b[33m\"\u001b[39m\u001b[33mstart\u001b[39m\u001b[33m\"\u001b[39m] = \u001b[38;5;28mself\u001b[39m.T[k, \u001b[33m\"\u001b[39m\u001b[33mstart\u001b[39m\u001b[33m\"\u001b[39m].X\n\u001b[32m--> \u001b[39m\u001b[32m104\u001b[39m     \u001b[43marrivals\u001b[49m\u001b[43m[\u001b[49m\u001b[43mk\u001b[49m\u001b[43m]\u001b[49m[\u001b[33m\"\u001b[39m\u001b[33mend\u001b[39m\u001b[33m\"\u001b[39m] = \u001b[38;5;28mself\u001b[39m.T[k, \u001b[33m\"\u001b[39m\u001b[33mend\u001b[39m\u001b[33m\"\u001b[39m].X\n\u001b[32m    106\u001b[39m     \u001b[38;5;28;01mfor\u001b[39;00m _, j \u001b[38;5;129;01min\u001b[39;00m \u001b[38;5;28mself\u001b[39m.routes[k]:\n\u001b[32m    107\u001b[39m         \u001b[38;5;28;01mif\u001b[39;00m j == \u001b[33m\"\u001b[39m\u001b[33mend\u001b[39m\u001b[33m\"\u001b[39m:\n",
      "\u001b[31mKeyError\u001b[39m: 979"
     ]
    }
   ],
   "source": [
    "from utils.visualization import visualize_schedule, visualize_metrics, visualize_routes\n",
    "\n",
    "model.get_solution()\n",
    "\n",
    "visualize_metrics(model, display_mode='dashboard');\n",
    "visualize_schedule(model);\n",
    "visualize_routes(model, subplot_mode=True);"
   ]
  }
 ],
 "metadata": {
  "kernelspec": {
   "display_name": ".venv",
   "language": "python",
   "name": "python3"
  },
  "language_info": {
   "codemirror_mode": {
    "name": "ipython",
    "version": 3
   },
   "file_extension": ".py",
   "mimetype": "text/x-python",
   "name": "python",
   "nbconvert_exporter": "python",
   "pygments_lexer": "ipython3",
   "version": "3.13.2"
  }
 },
 "nbformat": 4,
 "nbformat_minor": 2
}
